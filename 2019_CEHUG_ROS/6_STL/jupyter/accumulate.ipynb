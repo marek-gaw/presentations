{
 "cells": [
  {
   "cell_type": "markdown",
   "metadata": {},
   "source": [
    "# std::accumulate"
   ]
  },
  {
   "cell_type": "code",
   "execution_count": 1,
   "metadata": {},
   "outputs": [
    {
     "data": {
      "text/plain": []
     },
     "execution_count": 1,
     "metadata": {},
     "output_type": "execute_result"
    }
   ],
   "source": [
    "#include <numeric>"
   ]
  },
  {
   "cell_type": "markdown",
   "metadata": {},
   "source": [
    "In examples, I use std::vector, but accumulate works on every std::container"
   ]
  },
  {
   "cell_type": "code",
   "execution_count": 2,
   "metadata": {},
   "outputs": [
    {
     "data": {
      "text/plain": []
     },
     "execution_count": 2,
     "metadata": {},
     "output_type": "execute_result"
    }
   ],
   "source": [
    "#include <vector>\n",
    "#include <iostream>"
   ]
  },
  {
   "cell_type": "markdown",
   "metadata": {},
   "source": [
    "## Example 1:\n",
    "\n",
    "Calculate sum of <int> elements in the given vector"
   ]
  },
  {
   "cell_type": "markdown",
   "metadata": {},
   "source": [
    "### First idea\n",
    "\n",
    "First idea is to iterate over elements with range for loop."
   ]
  },
  {
   "cell_type": "code",
   "execution_count": 3,
   "metadata": {},
   "outputs": [
    {
     "name": "stdout",
     "output_type": "stream",
     "text": [
      "sum of ints:9"
     ]
    },
    {
     "data": {
      "text/plain": [
       "(std::basic_ostream<char, std::char_traits<char> > &) @0x7f926a263f40\n"
      ]
     },
     "execution_count": 3,
     "metadata": {},
     "output_type": "execute_result"
    }
   ],
   "source": [
    "std::vector<int> n = { 2, 9, -4, 2 };\n",
    "int sum = 0;\n",
    "\n",
    "for (const auto& i : n)\n",
    "{\n",
    "    sum += i; //this is funny, why this should be preffered over sum = sum + i...\n",
    "}\n",
    "std::cout << \"sum of ints:\" << std::to_string(sum);"
   ]
  },
  {
   "cell_type": "markdown",
   "metadata": {},
   "source": [
    "### Implementation with STL algorithm"
   ]
  },
  {
   "cell_type": "code",
   "execution_count": 4,
   "metadata": {},
   "outputs": [
    {
     "name": "stdout",
     "output_type": "stream",
     "text": [
      "sum of ints:9"
     ]
    },
    {
     "data": {
      "text/plain": [
       "(std::basic_ostream<char, std::char_traits<char> > &) @0x7f926a263f40\n"
      ]
     },
     "execution_count": 4,
     "metadata": {},
     "output_type": "execute_result"
    }
   ],
   "source": [
    "std::vector<int> numbers = { 2, 9, -4, 2 };\n",
    "int sumOfInts = std::accumulate(begin(numbers), end(numbers), 0);\n",
    "std::cout << \"sum of ints:\" << std::to_string(sumOfInts);"
   ]
  },
  {
   "cell_type": "markdown",
   "metadata": {},
   "source": [
    "**Do you see any advantage of using STL algorithm over for loop?**"
   ]
  },
  {
   "cell_type": "markdown",
   "metadata": {},
   "source": [
    "## Definition\n",
    "\n",
    "Computes the sum of the given value init and the elements in the range [first, last). "
   ]
  },
  {
   "cell_type": "markdown",
   "metadata": {},
   "source": [
    "## Example 2:\n",
    "\n",
    "Calculate sum of <double> elements"
   ]
  },
  {
   "cell_type": "code",
   "execution_count": 5,
   "metadata": {
    "scrolled": true
   },
   "outputs": [
    {
     "name": "stdout",
     "output_type": "stream",
     "text": [
      "sum of doubles:6.000000"
     ]
    },
    {
     "data": {
      "text/plain": [
       "(std::basic_ostream<char, std::char_traits<char> > &) @0x7f926a263f40\n"
      ]
     },
     "execution_count": 5,
     "metadata": {},
     "output_type": "execute_result"
    }
   ],
   "source": [
    "std::vector<double> doubles = { 1.5, 2, 3.5 };\n",
    "double sumOfDoubles = std::accumulate(begin(doubles), end(doubles), 0);\n",
    "std::cout << \"sum of doubles:\" << std::to_string(sumOfDoubles);"
   ]
  },
  {
   "cell_type": "markdown",
   "metadata": {},
   "source": [
    "_There is a catch!_"
   ]
  },
  {
   "cell_type": "markdown",
   "metadata": {},
   "source": [
    "To fix this, we need to properly set initialization value:"
   ]
  },
  {
   "cell_type": "code",
   "execution_count": 6,
   "metadata": {},
   "outputs": [
    {
     "name": "stdout",
     "output_type": "stream",
     "text": [
      "Fixed sum of doubles:7.000000"
     ]
    },
    {
     "data": {
      "text/plain": [
       "(std::basic_ostream<char, std::char_traits<char> > &) @0x7f926a263f40\n"
      ]
     },
     "execution_count": 6,
     "metadata": {},
     "output_type": "execute_result"
    }
   ],
   "source": [
    "double sumOfDoubles_fixed = std::accumulate(begin(doubles), end(doubles), 0.);\n",
    "std::cout << \"Fixed sum of doubles:\" << std::to_string(sumOfDoubles_fixed);"
   ]
  },
  {
   "cell_type": "code",
   "execution_count": 7,
   "metadata": {},
   "outputs": [
    {
     "name": "stdout",
     "output_type": "stream",
     "text": [
      "sentence:\"WinterIsComming\""
     ]
    },
    {
     "data": {
      "text/plain": [
       "(std::basic_ostream<char, std::char_traits<char> > &) @0x7f926a263f40\n"
      ]
     },
     "execution_count": 7,
     "metadata": {},
     "output_type": "execute_result"
    }
   ],
   "source": [
    "#include <string>\n",
    "\n",
    "//this initialization is a cling workaround. Correct/desired form is:\n",
    "//std::vector<std::string> words = { \"Winter \", \"Is \", \"Coming.\" };\n",
    "std::vector<std::string> words;\n",
    "std::string w1(\"Winter\");\n",
    "std::string w2(\"Is\");\n",
    "std::string w3(\"Comming\");\n",
    "\n",
    "words.push_back(w1);\n",
    "words.push_back(w2);\n",
    "words.push_back(w3);\n",
    "\n",
    "std::string sentence = std::accumulate(begin(words), end(words), std::string(\"\"));\n",
    "\n",
    "std::cout << \"sentence:\\\"\" << sentence << \"\\\"\"; "
   ]
  },
  {
   "cell_type": "markdown",
   "metadata": {},
   "source": [
    "## Hint!"
   ]
  },
  {
   "cell_type": "raw",
   "metadata": {},
   "source": [
    "//type_of(\"\") // ?\n",
    "//type_of(std::string(\"\")) //?"
   ]
  },
  {
   "cell_type": "markdown",
   "metadata": {},
   "source": [
    "## Example 3:\n",
    "\n",
    "Calculate sum of all elements, sum of even elements and product."
   ]
  },
  {
   "cell_type": "code",
   "execution_count": 8,
   "metadata": {},
   "outputs": [
    {
     "name": "stdout",
     "output_type": "stream",
     "text": [
      "15 6 120\n"
     ]
    },
    {
     "data": {
      "text/plain": [
       "(std::basic_ostream<char, std::char_traits<char> >::__ostream_type &) @0x7f926a263f40\n"
      ]
     },
     "execution_count": 8,
     "metadata": {},
     "output_type": "execute_result"
    }
   ],
   "source": [
    "std::vector<int> v1{1,2,3,4,5}; \n",
    "\n",
    "//sum of elements\n",
    "auto totalElements = std::accumulate(begin(v1), end(v1), 0); \n",
    "\n",
    "//sum of even elements\n",
    "auto totalEven = std::accumulate(begin(v1), end(v1), 0, \n",
    "    [](int totalEven, int i) {\n",
    "        if (i % 2 == 0) return totalEven + i; \n",
    "        return totalEven; \n",
    "    });\n",
    "    \n",
    "// multiplication of all elements    \n",
    "auto totalMultipled = std::accumulate(begin(v1), end(v1), 1, \n",
    "    [](int totalMultipled, int i) {\n",
    "        return totalMultipled * i; \n",
    "    });\n",
    "\n",
    "std::cout << totalElements << \" \" << totalEven << \" \" << totalMultipled << std::endl;"
   ]
  },
  {
   "cell_type": "markdown",
   "metadata": {},
   "source": [
    "## Example 4:\n",
    "\n",
    "Class Person represent a person. Find total weight."
   ]
  },
  {
   "cell_type": "code",
   "execution_count": 9,
   "metadata": {},
   "outputs": [
    {
     "data": {
      "text/plain": []
     },
     "execution_count": 9,
     "metadata": {},
     "output_type": "execute_result"
    }
   ],
   "source": [
    "class Person \n",
    "{\n",
    "    public:\n",
    "    \n",
    "        Person(double const w)\n",
    "        : weight(w)\n",
    "        {}\n",
    "        \n",
    "        double getWeight() const\n",
    "        {\n",
    "            return weight;\n",
    "        }\n",
    "    \n",
    "    private:\n",
    "        double weight;\n",
    "};"
   ]
  },
  {
   "cell_type": "code",
   "execution_count": 10,
   "metadata": {},
   "outputs": [
    {
     "data": {
      "text/plain": []
     },
     "execution_count": 10,
     "metadata": {},
     "output_type": "execute_result"
    }
   ],
   "source": [
    "std::vector<Person> group {Person(50.0), Person(80.0)};"
   ]
  },
  {
   "cell_type": "markdown",
   "metadata": {},
   "source": [
    "Last parameter of algorithm represents a function (here a lambda) that takes a current value which is initialized with the third parameter (here 0.) and a new element to “absorb” into the current value. The algorithm returns this current value once it has “absorbed”, or “accumulated” every element of the range."
   ]
  },
  {
   "cell_type": "code",
   "execution_count": 11,
   "metadata": {},
   "outputs": [
    {
     "name": "stdout",
     "output_type": "stream",
     "text": [
      "totalWeight:130.000000"
     ]
    },
    {
     "data": {
      "text/plain": [
       "(std::basic_ostream<char, std::char_traits<char> > &) @0x7f926a263f40\n"
      ]
     },
     "execution_count": 11,
     "metadata": {},
     "output_type": "execute_result"
    }
   ],
   "source": [
    "double totalWeight = std::accumulate(begin(group), end(group), 0.,\n",
    "                    [](double currentWeight, Person const& person)\n",
    "                    {\n",
    "                        return currentWeight + person.getWeight();\n",
    "                    });\n",
    "                    \n",
    "std::cout << \"totalWeight:\" << std::to_string(totalWeight);"
   ]
  },
  {
   "cell_type": "markdown",
   "metadata": {},
   "source": [
    "# Don't go this way!"
   ]
  },
  {
   "cell_type": "raw",
   "metadata": {},
   "source": [
    "//sorry, cling refuses to run this code...\n",
    "\n",
    "std::vector<double> weights {};\n",
    "\n",
    "std::accumulate(begin(group), end(group), &weights,\n",
    "                [](std::vector<double>* currentWeights, Person const& person)\n",
    "                {\n",
    "                    currentWeights->push_back(person.getWeight());\n",
    "                    return currentWeights;\n",
    "                });\n",
    "    \n",
    "    for (auto const& i: weights)\n",
    "{\n",
    "  std::cout << i << \",\";   \n",
    "}                ￼"
   ]
  },
  {
   "cell_type": "markdown",
   "metadata": {},
   "source": [
    "This code traverses a range, applies a function on each element and puts the results in a new collection. This is what std::transform would express in code.\n",
    "\n",
    "When the return value of std::accumulate is discarded, it is a sign that it is not the right tool to use."
   ]
  },
  {
   "cell_type": "markdown",
   "metadata": {},
   "source": [
    "## Scott Mayers said:\n",
    "\n",
    "_\"std::accumulate is made to summarize a range\"_\n",
    "\n",
    "which means:\n",
    "\n",
    "_std::accumulate takes a collection of elements and returns only one value._\n",
    "\n",
    "and:\n",
    "\n",
    "_If you don’t specify anything, std::accumulate does the sum of all the elements in the range that it takes. This sum being done with operator+. And since we need two values to call operator+, we also need a initial value to start off the algorithm._"
   ]
  },
  {
   "cell_type": "markdown",
   "metadata": {},
   "source": [
    "## Nice!\n",
    "\n",
    "pretty much every algorithm of the STL can be implemented by using `std::accumulate`!"
   ]
  },
  {
   "cell_type": "markdown",
   "metadata": {},
   "source": [
    "## References:\n",
    "\n",
    "[Fluent {C++}: (std::)Accumulate Knowledge On STL Algorithms](https://www.fluentcpp.com/2017/10/17/stdaccumulate-your-knowledge-on-algorithms/)"
   ]
  }
 ],
 "metadata": {
  "kernelspec": {
   "display_name": "C++11",
   "language": "",
   "name": "cling-cpp11"
  },
  "language_info": {
   "codemirror_mode": "c++",
   "file_extension": ".c++",
   "mimetype": "text/x-c++src",
   "name": "c++"
  }
 },
 "nbformat": 4,
 "nbformat_minor": 2
}
